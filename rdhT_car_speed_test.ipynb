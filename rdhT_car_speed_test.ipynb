{
  "nbformat": 4,
  "nbformat_minor": 0,
  "metadata": {
    "colab": {
      "name": "rdhT_car-speed-test",
      "provenance": [],
      "collapsed_sections": []
    },
    "kernelspec": {
      "name": "python3",
      "display_name": "Python 3"
    }
  },
  "cells": [
    {
      "cell_type": "code",
      "metadata": {
        "id": "gZUCEAVd0S0_",
        "colab": {
          "base_uri": "https://localhost:8080/"
        },
        "outputId": "0b047496-ec94-4005-9c35-1c05c5e814e3"
      },
      "source": [
        "from google.colab import drive\n",
        "drive.mount('/content/drive')"
      ],
      "execution_count": 4,
      "outputs": [
        {
          "output_type": "stream",
          "name": "stdout",
          "text": [
            "Mounted at /content/drive\n"
          ]
        }
      ]
    },
    {
      "cell_type": "code",
      "metadata": {
        "id": "AVe6nCen3NMh"
      },
      "source": [
        "!rm -rf test_folder\n",
        "!rm -rf output_folder\n",
        "!mkdir output_folder\n",
        "!mkdir test_folder"
      ],
      "execution_count": null,
      "outputs": []
    },
    {
      "cell_type": "code",
      "metadata": {
        "id": "uwfrDO0lMJki",
        "colab": {
          "base_uri": "https://localhost:8080/"
        },
        "outputId": "920e5e18-cdfa-4b76-d05e-d2d182f43bec"
      },
      "source": [
        "for x in range (3,6):\n",
        "  print(x)"
      ],
      "execution_count": null,
      "outputs": [
        {
          "output_type": "stream",
          "name": "stdout",
          "text": [
            "3\n",
            "4\n",
            "5\n"
          ]
        }
      ]
    },
    {
      "cell_type": "code",
      "metadata": {
        "id": "esArCFxMGIlz",
        "colab": {
          "base_uri": "https://localhost:8080/"
        },
        "outputId": "c6d74e2b-587f-4eaa-9c82-39aafa25aff8"
      },
      "source": [
        "# Load the TensorBoard notebook extension\n",
        "%load_ext tensorboard\n",
        "import os\n",
        "from io import BytesIO\n",
        "import tarfile\n",
        "import tempfile\n",
        "from six.moves import urllib\n",
        "\n",
        "from matplotlib import gridspec\n",
        "from matplotlib import pyplot as plt\n",
        "import numpy as np\n",
        "from PIL import Image\n",
        "\n",
        "import tensorflow.compat.v1 as tf\n",
        "import tensorflow.compat.v1.lite as lite\n",
        "tf.disable_v2_behavior()\n",
        "tf.autograph.set_verbosity(\n",
        "    0,\n",
        "    alsologtostdout=True\n",
        ")"
      ],
      "execution_count": null,
      "outputs": [
        {
          "output_type": "stream",
          "name": "stdout",
          "text": [
            "WARNING:tensorflow:From /usr/local/lib/python3.7/dist-packages/tensorflow/python/compat/v2_compat.py:111: disable_resource_variables (from tensorflow.python.ops.variable_scope) is deprecated and will be removed in a future version.\n",
            "Instructions for updating:\n",
            "non-resource variables are not supported in the long term\n"
          ]
        }
      ]
    },
    {
      "cell_type": "code",
      "metadata": {
        "id": "aXie4vJxMbYf"
      },
      "source": [
        "class DeepLabModel(object):\n",
        "  \"\"\"Class to load deeplab model and run inference.\"\"\"\n",
        "\n",
        "  INPUT_TENSOR_NAME = 'ImageTensor:0'\n",
        "  OUTPUT_TENSOR_NAME = 'SemanticPredictions:0'\n",
        "  INPUT_SIZE = 513\n",
        "  FROZEN_GRAPH_NAME = 'frozen_inference_graph'\n",
        "\n",
        "  def __init__(self, tarball_path):\n",
        "    \"\"\"Creates and loads pretrained deeplab model.\"\"\"\n",
        "    self.graph = tf.Graph()\n",
        "\n",
        "    graph_def = None\n",
        "    # Extract frozen graph from tar archive.\n",
        "    tar_file = tarfile.open(tarball_path)\n",
        "    for tar_info in tar_file.getmembers():\n",
        "      if self.FROZEN_GRAPH_NAME in os.path.basename(tar_info.name):\n",
        "        file_handle = tar_file.extractfile(tar_info)\n",
        "        graph_def = tf.compat.v1.GraphDef.FromString(file_handle.read())\n",
        "        break\n",
        "\n",
        "    tar_file.close()\n",
        "\n",
        "    if graph_def is None:\n",
        "      raise RuntimeError('Cannot find inference graph in tar archive.')\n",
        "\n",
        "    with self.graph.as_default():\n",
        "      tf.import_graph_def(graph_def, name='')\n",
        "    self.sess = tf.Session(graph=self.graph)\n",
        "\n",
        "  def run(self, image, is_portrait): # \n",
        "    width, height = image.size\n",
        "    resize_ratio = 1.0 * self.INPUT_SIZE / max(width, height)\n",
        "    target_size = (int(resize_ratio * width), int(resize_ratio * height))\n",
        "    resized_image = image.convert('RGB').resize(target_size, Image.ANTIALIAS)\n",
        "    batch_seg_map = self.sess.run(\n",
        "        self.OUTPUT_TENSOR_NAME,\n",
        "        feed_dict={self.INPUT_TENSOR_NAME: [np.asarray(resized_image)]})\n",
        "    seg_map = batch_seg_map[0]\n",
        "    return resized_image, seg_map"
      ],
      "execution_count": null,
      "outputs": []
    },
    {
      "cell_type": "code",
      "metadata": {
        "id": "EZGmZCjUUk46"
      },
      "source": [
        "LABEL_NAMES = np.asarray([\n",
        "    'background', 'aeroplane', 'bicycle', 'bird', 'boat', 'bottle',\n",
        "    'bus', 'car', 'cat', 'chair', 'cow', 'diningtable', 'dog',\n",
        "    'horse', 'motorbike', 'person', 'pottedplant', 'sheep', 'sofa',\n",
        "    'train', 'tv'\n",
        "])"
      ],
      "execution_count": null,
      "outputs": []
    },
    {
      "cell_type": "code",
      "metadata": {
        "id": "6mZ-ejaUMqYb",
        "colab": {
          "base_uri": "https://localhost:8080/"
        },
        "outputId": "cf6b3892-623c-4b78-bd3b-18576f88b44c"
      },
      "source": [
        "MODEL_URL = 'http://download.tensorflow.org/models/deeplabv3_mnv2_pascal_trainval_2018_01_29.tar.gz'\n",
        "_TARBALL_NAME = \"deeplab.tar.gz\"\n",
        "model_dir = tempfile.mkdtemp()\n",
        "tf.io.gfile.mkdir(model_dir)\n",
        "\n",
        "download_path = os.path.join(model_dir, _TARBALL_NAME)\n",
        "print('Sedang download model, tunggu sebentar...')\n",
        "urllib.request.urlretrieve(MODEL_URL,\n",
        "                   download_path)\n",
        "print('Download Berhasil! Loading model...')\n",
        "\n",
        "MODEL = DeepLabModel(download_path)\n",
        "print('Model loaded successfully!')"
      ],
      "execution_count": null,
      "outputs": [
        {
          "output_type": "stream",
          "name": "stdout",
          "text": [
            "Sedang download model, tunggu sebentar...\n",
            "Download Berhasil! Loading model...\n",
            "Model loaded successfully!\n"
          ]
        }
      ]
    },
    {
      "cell_type": "code",
      "metadata": {
        "id": "nKVIEzbM0Ku7"
      },
      "source": [
        "import cv2\n",
        "import os\n",
        "\n",
        "def video_to_jpeg(input_video, folder_path, fps_input, fps_output):\n",
        "  cam = cv2.VideoCapture(input_video)\n",
        "  currentFrame = 0\n",
        "  index = 0\n",
        "  limiter = int(fps_input / fps_output)\n",
        "  print(\"Generate image sequence - START\")\n",
        "  while(True): \n",
        "\n",
        "      # reading from frame \n",
        "      ret,frame = cam.read() \n",
        "\n",
        "      if ret:\n",
        "        if (index % limiter == 0):\n",
        "          # if video is still left continue creating images \n",
        "          name = folder_path + \"/\" + str(currentFrame) + '.jpg'\n",
        "          # writing the extracted images \n",
        "          cv2.imwrite(name, frame) \n",
        "\n",
        "          # increasing counter so that it will \n",
        "          # show how many frames are created \n",
        "          currentFrame += 1\n",
        "        index += 1\n",
        "      else: \n",
        "          break\n",
        "  print(\"Generate image sequence - FINISHED\")\n",
        "  print(currentFrame-1, \"Image Created\")\n",
        "  # Release all space and windows once done \n",
        "  cam.release() \n",
        "  cv2.destroyAllWindows()\n",
        "  return currentFrame-1"
      ],
      "execution_count": null,
      "outputs": []
    },
    {
      "cell_type": "code",
      "metadata": {
        "id": "amri3s4X0627",
        "colab": {
          "base_uri": "https://localhost:8080/"
        },
        "outputId": "5d9d0911-d026-47a7-a41f-28506880f321"
      },
      "source": [
        "video_path = \"/content/drive/MyDrive/_carvideo/50_3.mp4\"\n",
        "folder_temp = \"test_folder\"\n",
        "print(\"Video berhasil dimuat!\")\n",
        "fps_input = 60\n",
        "fps_output = 60\n",
        "fps_render = 5\n",
        "jumlah_frame = video_to_jpeg(video_path, folder_temp, fps_input, fps_output)"
      ],
      "execution_count": null,
      "outputs": [
        {
          "output_type": "stream",
          "name": "stdout",
          "text": [
            "Video berhasil dimuat!\n",
            "Generate image sequence - START\n",
            "Generate image sequence - FINISHED\n",
            "96 Image Created\n"
          ]
        }
      ]
    },
    {
      "cell_type": "code",
      "metadata": {
        "id": "RR-u9AvZ4Vq2"
      },
      "source": [
        "def titikKanan(seg_map, code):\n",
        "  y, x = seg_map.shape\n",
        "  for j in range(x-1, 0, -1):\n",
        "    for i in range(0, y):\n",
        "      if (seg_map[i][j] == code):\n",
        "        return (j, i)\n",
        "        print(\"i = \", i, \", j =\", j)\n",
        "  return (0,0)\n",
        "\n",
        "def titikKiri(seg_map, code):\n",
        "  y, x = seg_map.shape\n",
        "  for j in range(0, x):\n",
        "    for i in range(0, y):\n",
        "      if (seg_map[i][j] == code):\n",
        "        return (j, i)\n",
        "  return (0,0)\n",
        "\n",
        "def getCarFront(image_file, code_car):\n",
        "  f = open(image_file, \"rb\")\n",
        "  jpg_str = f.read()\n",
        "  f.close()\n",
        "  original_im = Image.open(BytesIO(jpg_str))\n",
        "  resized_image, seg_map = MODEL.run(original_im, False)\n",
        "  kanan = titikKanan(seg_map, code_car)\n",
        "  #kanan = titikKiri(seg_map, code_car)\n",
        "  return resized_image, seg_map, kanan"
      ],
      "execution_count": null,
      "outputs": []
    },
    {
      "cell_type": "code",
      "metadata": {
        "id": "L5UepjX3PVjS",
        "colab": {
          "base_uri": "https://localhost:8080/",
          "height": 1000
        },
        "outputId": "3b55cb29-ea48-4725-c0d5-9af78a6a7a4f"
      },
      "source": [
        "from time import time\n",
        "\n",
        "code_car = 7\n",
        "list_image = []\n",
        "list_segmented_image = []\n",
        "list_right_point = []\n",
        "output_frames = []\n",
        "\n",
        "output_folder = \"output_folder/\"\n",
        "for i in range(jumlah_frame):\n",
        "  awal = time()\n",
        "  print(\"Extract frame\", i)\n",
        "  resized_image, seg_map, kanan = getCarFront(folder_temp+\"/\"+str(i)+\".jpg\", code_car)\n",
        "  if (kanan[0] > 0 and kanan[0] < 512):\n",
        "    list_image.append(resized_image)\n",
        "    list_segmented_image.append(seg_map)\n",
        "    list_right_point.append(kanan)\n",
        "    plt.imshow(resized_image)\n",
        "    plt.imshow(seg_map, alpha=0.7)\n",
        "    plt.scatter(kanan[0], kanan[1], color=\"r\")\n",
        "    plt.savefig(output_folder+str(i)+\".jpg\")\n",
        "    #plt.clf()\n",
        "    output_frames.append(i)\n",
        "    print(\"Extract frame\", i, \"done - \", time() - awal, \"detik\")\n",
        "  else:\n",
        "    print(\"No Car Detected in frame\", i,\"done - \", time() - awal, \"detik\")\n",
        "print(\"Proses deteksi objek selesai!\")"
      ],
      "execution_count": null,
      "outputs": [
        {
          "output_type": "stream",
          "name": "stdout",
          "text": [
            "Extract frame 0\n",
            "No Car Detected in frame 0 done -  1.6462631225585938 detik\n",
            "Extract frame 1\n",
            "No Car Detected in frame 1 done -  0.822674036026001 detik\n",
            "Extract frame 2\n",
            "No Car Detected in frame 2 done -  0.8483223915100098 detik\n",
            "Extract frame 3\n",
            "No Car Detected in frame 3 done -  0.8422443866729736 detik\n",
            "Extract frame 4\n",
            "No Car Detected in frame 4 done -  0.8162856101989746 detik\n",
            "Extract frame 5\n",
            "No Car Detected in frame 5 done -  0.8032658100128174 detik\n",
            "Extract frame 6\n",
            "No Car Detected in frame 6 done -  0.7859582901000977 detik\n",
            "Extract frame 7\n",
            "No Car Detected in frame 7 done -  0.8010914325714111 detik\n",
            "Extract frame 8\n",
            "No Car Detected in frame 8 done -  0.8108634948730469 detik\n",
            "Extract frame 9\n",
            "No Car Detected in frame 9 done -  0.8194091320037842 detik\n",
            "Extract frame 10\n",
            "No Car Detected in frame 10 done -  0.7936766147613525 detik\n",
            "Extract frame 11\n",
            "Extract frame 11 done -  0.9269373416900635 detik\n",
            "Extract frame 12\n",
            "Extract frame 12 done -  0.993842363357544 detik\n",
            "Extract frame 13\n",
            "Extract frame 13 done -  0.9458441734313965 detik\n",
            "Extract frame 14\n",
            "Extract frame 14 done -  0.991135835647583 detik\n",
            "Extract frame 15\n",
            "Extract frame 15 done -  1.0309295654296875 detik\n",
            "Extract frame 16\n",
            "Extract frame 16 done -  1.0612170696258545 detik\n",
            "Extract frame 17\n",
            "Extract frame 17 done -  1.1208279132843018 detik\n",
            "Extract frame 18\n",
            "Extract frame 18 done -  1.1739656925201416 detik\n",
            "Extract frame 19\n",
            "Extract frame 19 done -  1.2084476947784424 detik\n",
            "Extract frame 20\n",
            "Extract frame 20 done -  1.2835628986358643 detik\n",
            "Extract frame 21\n",
            "Extract frame 21 done -  1.4438281059265137 detik\n",
            "Extract frame 22\n",
            "Extract frame 22 done -  1.3871052265167236 detik\n",
            "Extract frame 23\n",
            "Extract frame 23 done -  1.4522337913513184 detik\n",
            "Extract frame 24\n",
            "Extract frame 24 done -  1.4335875511169434 detik\n",
            "Extract frame 25\n",
            "Extract frame 25 done -  1.5026092529296875 detik\n",
            "Extract frame 26\n",
            "Extract frame 26 done -  1.5331964492797852 detik\n",
            "Extract frame 27\n",
            "Extract frame 27 done -  1.569455623626709 detik\n",
            "Extract frame 28\n",
            "Extract frame 28 done -  1.7240300178527832 detik\n",
            "Extract frame 29\n",
            "Extract frame 29 done -  1.8035778999328613 detik\n",
            "Extract frame 30\n",
            "Extract frame 30 done -  1.7282764911651611 detik\n",
            "Extract frame 31\n",
            "Extract frame 31 done -  1.7640628814697266 detik\n",
            "Extract frame 32\n",
            "Extract frame 32 done -  1.9168388843536377 detik\n",
            "Extract frame 33\n",
            "Extract frame 33 done -  1.953768253326416 detik\n",
            "Extract frame 34\n",
            "Extract frame 34 done -  1.9239153861999512 detik\n",
            "Extract frame 35\n",
            "Extract frame 35 done -  2.026907444000244 detik\n",
            "Extract frame 36\n",
            "Extract frame 36 done -  2.006077766418457 detik\n",
            "Extract frame 37\n",
            "Extract frame 37 done -  2.223601818084717 detik\n",
            "Extract frame 38\n",
            "Extract frame 38 done -  2.187551975250244 detik\n",
            "Extract frame 39\n",
            "Extract frame 39 done -  2.1630642414093018 detik\n",
            "Extract frame 40\n",
            "Extract frame 40 done -  2.295860767364502 detik\n",
            "Extract frame 41\n",
            "Extract frame 41 done -  2.4385104179382324 detik\n",
            "Extract frame 42\n",
            "Extract frame 42 done -  2.3276216983795166 detik\n",
            "Extract frame 43\n",
            "Extract frame 43 done -  2.382784128189087 detik\n",
            "Extract frame 44\n",
            "Extract frame 44 done -  2.412869930267334 detik\n",
            "Extract frame 45\n",
            "Extract frame 45 done -  2.5920989513397217 detik\n",
            "Extract frame 46\n",
            "Extract frame 46 done -  2.5827035903930664 detik\n",
            "Extract frame 47\n",
            "Extract frame 47 done -  2.5914194583892822 detik\n",
            "Extract frame 48\n",
            "Extract frame 48 done -  2.643094062805176 detik\n",
            "Extract frame 49\n",
            "Extract frame 49 done -  2.798659324645996 detik\n",
            "Extract frame 50\n",
            "Extract frame 50 done -  2.6884725093841553 detik\n",
            "Extract frame 51\n",
            "Extract frame 51 done -  2.7603366374969482 detik\n",
            "Extract frame 52\n",
            "Extract frame 52 done -  3.0772182941436768 detik\n",
            "Extract frame 53\n",
            "Extract frame 53 done -  2.9267709255218506 detik\n",
            "Extract frame 54\n",
            "Extract frame 54 done -  2.973254919052124 detik\n",
            "Extract frame 55\n",
            "Extract frame 55 done -  3.093918800354004 detik\n",
            "Extract frame 56\n",
            "Extract frame 56 done -  3.122182846069336 detik\n",
            "Extract frame 57\n",
            "Extract frame 57 done -  3.0848727226257324 detik\n",
            "Extract frame 58\n",
            "Extract frame 58 done -  3.2780895233154297 detik\n",
            "Extract frame 59\n",
            "Extract frame 59 done -  3.129530668258667 detik\n",
            "Extract frame 60\n",
            "Extract frame 60 done -  3.307659864425659 detik\n",
            "Extract frame 61\n",
            "Extract frame 61 done -  3.301027774810791 detik\n",
            "Extract frame 62\n",
            "Extract frame 62 done -  3.572075128555298 detik\n",
            "Extract frame 63\n",
            "Extract frame 63 done -  3.4595112800598145 detik\n",
            "Extract frame 64\n",
            "No Car Detected in frame 64 done -  0.6924962997436523 detik\n",
            "Extract frame 65\n",
            "No Car Detected in frame 65 done -  0.7045950889587402 detik\n",
            "Extract frame 66\n",
            "No Car Detected in frame 66 done -  0.6917123794555664 detik\n",
            "Extract frame 67\n",
            "No Car Detected in frame 67 done -  0.6381266117095947 detik\n",
            "Extract frame 68\n",
            "No Car Detected in frame 68 done -  0.6266231536865234 detik\n",
            "Extract frame 69\n",
            "No Car Detected in frame 69 done -  0.6317758560180664 detik\n",
            "Extract frame 70\n",
            "No Car Detected in frame 70 done -  0.64426589012146 detik\n",
            "Extract frame 71\n",
            "No Car Detected in frame 71 done -  0.6225333213806152 detik\n",
            "Extract frame 72\n",
            "No Car Detected in frame 72 done -  0.635021448135376 detik\n",
            "Extract frame 73\n",
            "No Car Detected in frame 73 done -  0.6281917095184326 detik\n",
            "Extract frame 74\n",
            "No Car Detected in frame 74 done -  0.6267621517181396 detik\n",
            "Extract frame 75\n",
            "No Car Detected in frame 75 done -  0.6367893218994141 detik\n",
            "Extract frame 76\n",
            "No Car Detected in frame 76 done -  0.6281270980834961 detik\n",
            "Extract frame 77\n",
            "No Car Detected in frame 77 done -  0.7015080451965332 detik\n",
            "Extract frame 78\n",
            "No Car Detected in frame 78 done -  0.6409237384796143 detik\n",
            "Extract frame 79\n",
            "No Car Detected in frame 79 done -  0.6183032989501953 detik\n",
            "Extract frame 80\n",
            "No Car Detected in frame 80 done -  0.6373026371002197 detik\n",
            "Extract frame 81\n",
            "No Car Detected in frame 81 done -  0.6519005298614502 detik\n",
            "Extract frame 82\n",
            "No Car Detected in frame 82 done -  0.6958446502685547 detik\n",
            "Extract frame 83\n",
            "No Car Detected in frame 83 done -  0.6415493488311768 detik\n",
            "Extract frame 84\n",
            "No Car Detected in frame 84 done -  0.7446694374084473 detik\n",
            "Extract frame 85\n",
            "No Car Detected in frame 85 done -  0.7667133808135986 detik\n",
            "Extract frame 86\n",
            "No Car Detected in frame 86 done -  0.7910964488983154 detik\n",
            "Extract frame 87\n",
            "No Car Detected in frame 87 done -  0.7266061305999756 detik\n",
            "Extract frame 88\n",
            "No Car Detected in frame 88 done -  0.7198629379272461 detik\n",
            "Extract frame 89\n",
            "No Car Detected in frame 89 done -  0.7085967063903809 detik\n",
            "Extract frame 90\n",
            "No Car Detected in frame 90 done -  0.7145540714263916 detik\n",
            "Extract frame 91\n",
            "No Car Detected in frame 91 done -  0.7530381679534912 detik\n",
            "Extract frame 92\n",
            "No Car Detected in frame 92 done -  0.7623770236968994 detik\n",
            "Extract frame 93\n",
            "No Car Detected in frame 93 done -  0.7107021808624268 detik\n",
            "Extract frame 94\n",
            "No Car Detected in frame 94 done -  0.7664914131164551 detik\n",
            "Extract frame 95\n",
            "No Car Detected in frame 95 done -  0.7555227279663086 detik\n",
            "Proses deteksi objek selesai!\n"
          ]
        },
        {
          "output_type": "display_data",
          "data": {
            "image/png": "[encoded data removed]",
            "text/plain": [
              "<Figure size 432x288 with 1 Axes>"
            ]
          },
          "metadata": {
            "needs_background": "light"
          }
        }
      ]
    },
    {
      "cell_type": "code",
      "metadata": {
        "id": "le9JVf6O63m8"
      },
      "source": [
        "panjang_lintasan = 11.57 # dalam meter\n",
        "frame_period = 1 / fps_output"
      ],
      "execution_count": null,
      "outputs": []
    },
    {
      "cell_type": "code",
      "metadata": {
        "id": "O41ha3xZ79OX"
      },
      "source": [
        "def groupingPoint(input_array, batas_kiri, batas_kanan):\n",
        "  output = []\n",
        "  for i in range(len(input_array)):\n",
        "    if (input_array[i][0] > batas_kiri and input_array[i][0] < batas_kanan):\n",
        "      output.append(input_array[i][0])\n",
        "  return output\n",
        "\n",
        "def find_delta(input_array):\n",
        "  output = []\n",
        "  for i in range(len(input_array)-1):\n",
        "    output.append(input_array[i+1] - input_array[i])\n",
        "  return output\n",
        "\n",
        "def delta_to_meter(delta, pixel_per_meter):\n",
        "  return delta * pixel_per_meter\n",
        "\n",
        "def ms_to_kmh(velocity_in_ms):\n",
        "  return velocity_in_ms * 3.6"
      ],
      "execution_count": null,
      "outputs": []
    },
    {
      "cell_type": "code",
      "metadata": {
        "id": "Ls_4vWIh8Tho",
        "colab": {
          "base_uri": "https://localhost:8080/"
        },
        "outputId": "43b919fd-f899-499a-8c77-35e8aa79ab41"
      },
      "source": [
        "titik = groupingPoint(list_right_point, 0, 512)\n",
        "delta = find_delta(titik)\n",
        "pixel_per_meter = panjang_lintasan/512\n",
        "print(titik)\n",
        "print(delta)"
      ],
      "execution_count": null,
      "outputs": [
        {
          "output_type": "stream",
          "name": "stdout",
          "text": [
            "[7, 18, 33, 41, 49, 72, 71, 81, 89, 91, 100, 107, 116, 125, 133, 146, 154, 162, 172, 181, 192, 203, 228, 233, 236, 248, 251, 254, 266, 274, 284, 294, 303, 314, 323, 336, 345, 354, 364, 376, 385, 395, 404, 415, 425, 435, 445, 456, 465, 473, 483, 492, 502]\n",
            "[11, 15, 8, 8, 23, -1, 10, 8, 2, 9, 7, 9, 9, 8, 13, 8, 8, 10, 9, 11, 11, 25, 5, 3, 12, 3, 3, 12, 8, 10, 10, 9, 11, 9, 13, 9, 9, 10, 12, 9, 10, 9, 11, 10, 10, 10, 11, 9, 8, 10, 9, 10]\n"
          ]
        }
      ]
    },
    {
      "cell_type": "code",
      "metadata": {
        "id": "XjOCUK9d8yZh"
      },
      "source": [
        "delta_mean = sum(delta)/len(delta)\n",
        "delta_in_m = delta_mean * pixel_per_meter\n",
        "velocity_in_ms = delta_in_m / frame_period"
      ],
      "execution_count": null,
      "outputs": []
    },
    {
      "cell_type": "code",
      "metadata": {
        "colab": {
          "base_uri": "https://localhost:8080/"
        },
        "id": "RNs8LFY4SZKG",
        "outputId": "ed2a7527-e35a-4fef-978f-884a7d81d03f"
      },
      "source": [
        "frame_period"
      ],
      "execution_count": null,
      "outputs": [
        {
          "output_type": "execute_result",
          "data": {
            "text/plain": [
              "0.016666666666666666"
            ]
          },
          "metadata": {},
          "execution_count": 17
        }
      ]
    },
    {
      "cell_type": "code",
      "metadata": {
        "id": "oM4cF3wXsiby",
        "colab": {
          "base_uri": "https://localhost:8080/"
        },
        "outputId": "9a71a4da-af1d-43a2-cc20-554475386234"
      },
      "source": [
        "delta_mean"
      ],
      "execution_count": null,
      "outputs": [
        {
          "output_type": "execute_result",
          "data": {
            "text/plain": [
              "9.51923076923077"
            ]
          },
          "metadata": {},
          "execution_count": 18
        }
      ]
    },
    {
      "cell_type": "code",
      "metadata": {
        "id": "yOYEvFlhrBeK",
        "colab": {
          "base_uri": "https://localhost:8080/"
        },
        "outputId": "4a8ade11-e966-4841-f9c6-7d2090dd11eb"
      },
      "source": [
        "delta_in_m"
      ],
      "execution_count": null,
      "outputs": [
        {
          "output_type": "execute_result",
          "data": {
            "text/plain": [
              "0.21511230468750003"
            ]
          },
          "metadata": {},
          "execution_count": 19
        }
      ]
    },
    {
      "cell_type": "code",
      "metadata": {
        "id": "cZdCVlq5sOkf",
        "colab": {
          "base_uri": "https://localhost:8080/"
        },
        "outputId": "0b24fe00-6512-4427-b283-889aa4c34ac3"
      },
      "source": [
        "velocity_in_ms"
      ],
      "execution_count": null,
      "outputs": [
        {
          "output_type": "execute_result",
          "data": {
            "text/plain": [
              "12.906738281250002"
            ]
          },
          "metadata": {},
          "execution_count": 20
        }
      ]
    },
    {
      "cell_type": "code",
      "metadata": {
        "id": "lp0S1C5f945C",
        "colab": {
          "base_uri": "https://localhost:8080/"
        },
        "outputId": "2f8aca9f-878f-4697-e8d9-bc7660b00102"
      },
      "source": [
        "print(\"Hasil kecepatan: \", ms_to_kmh(velocity_in_ms),\" km/jam\")\n",
        "#ms_to_kmh(velocity_in_ms)"
      ],
      "execution_count": null,
      "outputs": [
        {
          "output_type": "stream",
          "name": "stdout",
          "text": [
            "Hasil kecepatan:  46.46425781250001  km/jam\n"
          ]
        }
      ]
    },
    {
      "cell_type": "code",
      "metadata": {
        "id": "W2s481h6BF2V"
      },
      "source": [
        "import glob\n",
        "img_array = []\n",
        "for i in output_frames:\n",
        "    filename = \"output_folder/\"+str(i)+\".jpg\"\n",
        "    img = cv2.imread(filename)\n",
        "    height, width, layers = img.shape\n",
        "    size = (width,height)\n",
        "    img_array.append(img)\n",
        "video_file = \"output_folder/35_3.mp4\"\n",
        "fps = 2\n",
        "image_size = img_array[0].shape\n",
        "out = cv2.VideoWriter(video_file, cv2.VideoWriter_fourcc(*'MP4V'), fps_render, (image_size[1], image_size[0]))\n",
        "for i in range(len(img_array)):\n",
        "    out.write(img_array[i])\n",
        "out.release()"
      ],
      "execution_count": null,
      "outputs": []
    },
    {
      "cell_type": "code",
      "metadata": {
        "id": "XpWjAZCaG2Kd"
      },
      "source": [
        "!cp -r /content/output_folder /content/drive/MyDrive/img_kiri"
      ],
      "execution_count": null,
      "outputs": []
    }
  ]
}